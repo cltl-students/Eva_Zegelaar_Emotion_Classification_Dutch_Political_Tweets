{
 "cells": [
  {
   "cell_type": "markdown",
   "metadata": {},
   "source": [
    "# CNN-BiLSTM for Dutch tweets\n",
    "\n"
   ]
  },
  {
   "cell_type": "markdown",
   "metadata": {},
   "source": [
    "**References for code**\n",
    "\n",
    "(1) System architecture code inspired from: https://github.com/saitejdandge/Sentimental_Analysis_LSTM_Conv1D and https://medium.com/appening-io/emotion-classification-2d4ed93bf4e2\n",
    "\n",
    "(2) Dutch word embeddings trained on social media data: https://github.com/coosto/dutch-word-embeddings/releases\n",
    "\n",
    "(3) Word embedding layer implemention code inspired from: https://www.kaggle.com/lystdo/lstm-with-word2vec-embeddings\n",
    "\n",
    "(4) Transforming predicted class back to original label inspired from: https://datascience.stackexchange.com/questions/27153/how-to-get-predicted-class-labels-in-convolution-neural-network\n"
   ]
  },
  {
   "cell_type": "markdown",
   "metadata": {},
   "source": [
    "**1. Import necessary modules**"
   ]
  },
  {
   "cell_type": "code",
   "execution_count": 2,
   "metadata": {},
   "outputs": [
    {
     "name": "stderr",
     "output_type": "stream",
     "text": [
      "Using TensorFlow backend.\n"
     ]
    }
   ],
   "source": [
    "import numpy as np\n",
    "import emoji\n",
    "import matplotlib.pyplot as plt\n",
    "import pandas as pd\n",
    "from sklearn.model_selection import train_test_split\n",
    "from keras.models import Sequential\n",
    "from keras.layers import Dense, Dropout, Activation,Embedding,Flatten\n",
    "from keras.layers import LSTM, Bidirectional\n",
    "from keras.models import load_model, save_model\n",
    "from keras.models import Model\n",
    "from keras.preprocessing.text import text_to_word_sequence\n",
    "from nltk.corpus import stopwords \n",
    "from nltk.tokenize import word_tokenize\n",
    "from keras.preprocessing.text import Tokenizer\n",
    "from keras.preprocessing.sequence import pad_sequences\n",
    "import os\n",
    "from keras.layers import Embedding,Flatten,Conv1D,MaxPooling1D, Concatenate,Input, GlobalMaxPooling1D, Dropout\n",
    "from keras.regularizers import l2\n",
    "from keras.utils import np_utils\n",
    "from sklearn.preprocessing import LabelEncoder\n",
    "import sys\n",
    "from keras.callbacks import ModelCheckpoint\n",
    "import time\n",
    "import datetime\n",
    "import os, re, csv, math, codecs\n",
    "from tqdm import tqdm\n",
    "import gensim\n",
    "from sklearn.model_selection import StratifiedKFold\n",
    "import seaborn as sn"
   ]
  },
  {
   "cell_type": "markdown",
   "metadata": {},
   "source": [
    "**2. Read & open data**\n",
    "\n",
    "Change sheet name to 'polarity' or 'emotion' or 'proactivity', depending on the labels you want to train. "
   ]
  },
  {
   "cell_type": "code",
   "execution_count": 7,
   "metadata": {},
   "outputs": [
    {
     "data": {
      "text/plain": [
       "'   Column: De racistische, politieke terreur van Kuzu en Öztürk '"
      ]
     },
     "execution_count": 7,
     "metadata": {},
     "output_type": "execute_result"
    }
   ],
   "source": [
    "def read_csv(filename, sheetname='sheet'): \n",
    "    \"\"\"\n",
    "    Reads excel file containing training data and \n",
    "    assigns tweets and labels as x or y variable values.\n",
    "    \"\"\"\n",
    "    df = pd.read_excel(open(filename, 'rb'),\n",
    "               sheet_name=sheetname) \n",
    "    x_train_tweets = df.values[:,0]\n",
    "    y_train_multi = df.values[:,1]\n",
    "    \n",
    "    \n",
    "    return x_train_tweets, y_train_multi\n",
    "\n",
    "#change sheetname to 'gold-emotion' for emotion training labels\n",
    "#change sheetname to 'gold-proactivity' for binary proactivity training labels \n",
    "x_train, y_train_multi = read_csv('gold.xlsx', 'gold-polarity')  \n",
    "\n",
    "#change sheetname to 'test-data-emotion' for emotion test labels\n",
    "#change sheetname to 'test-data-proactivity' for binary proactivity test labels\n",
    "x_test, y_test_multi = read_csv('gold.xlsx', 'test-data-polarity')\n",
    "x_test[3]\n"
   ]
  },
  {
   "cell_type": "markdown",
   "metadata": {},
   "source": [
    "**3. Count distribution of labels for training**"
   ]
  },
  {
   "cell_type": "code",
   "execution_count": 8,
   "metadata": {},
   "outputs": [
    {
     "data": {
      "text/plain": [
       "neutral     362\n",
       "positive    269\n",
       "negative    268\n",
       "Name: polarity, dtype: int64"
      ]
     },
     "execution_count": 8,
     "metadata": {},
     "output_type": "execute_result"
    }
   ],
   "source": [
    "\n",
    "#count distribution of labels, once again you may change the sheet name. \n",
    "\n",
    "df = pd.read_excel(open('gold.xlsx', 'rb'),\n",
    "               sheet_name='gold-polarity')\n",
    "df['polarity'].value_counts()"
   ]
  },
  {
   "cell_type": "markdown",
   "metadata": {},
   "source": [
    "**4. Preprocess data**"
   ]
  },
  {
   "cell_type": "code",
   "execution_count": 9,
   "metadata": {},
   "outputs": [
    {
     "data": {
      "text/plain": [
       "['column', 'racistische', 'politieke', 'terreur', 'kuzu', 'öztürk']"
      ]
     },
     "execution_count": 9,
     "metadata": {},
     "output_type": "execute_result"
    }
   ],
   "source": [
    "def preprocessing2(tweets):\n",
    "    \"\"\"\n",
    "    Program to preprocess data ready for system input. \n",
    "    Removes stopwords.\n",
    "    Returns each tweet as a list of word sequences using the keras \n",
    "    preprocessing module 'text_to_word_sequence'\n",
    "    \n",
    "    Preprocessing code inspired by: Saitej Dandge Feb 13, 2019. \n",
    "    https://github.com/saitejdandge/Sentimental_Analysis_LSTM_Conv1D/blob/master/main.py\n",
    "    \n",
    "    \"\"\"\n",
    "    dutch_stop_words = set(stopwords.words('dutch')) #from dutch nltk \n",
    "    added_stop_words = set(dutch_stop_words)\n",
    "    \n",
    "    for stopword in dutch_stop_words: \n",
    "        added_stop_words.add(stopword.replace('\\'',''))\n",
    "        pass\n",
    "    stopWords=added_stop_words\n",
    "    punct='\\n\\t!\"#$%&()*+,-./:;<=>?[\\]^_`{|}~'\n",
    "    word_seq=[]\n",
    "    \n",
    "    for item in tweets:\n",
    "        item=str(item)\n",
    "        item=item.replace('\\'', '')\n",
    "        newl = [x for x in text_to_word_sequence(item,filters=punct, lower=True)] #if not x.startswith(\"@\")]\n",
    "        filtered_sent = [w for w in newl if not w in stopWords] \n",
    "        word_seq.append(filtered_sent)\n",
    "        pass\n",
    "    return word_seq\n",
    "x_train_sequences = preprocessing2(x_train)\n",
    "x_test_sequences = preprocessing2(x_test)\n",
    "\n",
    "x_test_sequences[3]"
   ]
  },
  {
   "cell_type": "markdown",
   "metadata": {},
   "source": [
    "**5. Create padded word sequences**"
   ]
  },
  {
   "cell_type": "code",
   "execution_count": 10,
   "metadata": {},
   "outputs": [
    {
     "name": "stdout",
     "output_type": "stream",
     "text": [
      "Tokenized to Word indices as \n",
      "(899,)\n",
      "After padding data\n",
      "(899, 20)\n",
      "Tokenized to Word indices as \n",
      "(198,)\n",
      "After padding data\n",
      "(198, 20)\n",
      "\n",
      "word indices: [[2029, 316, 2030, 151, 826, 2031, 4, 2032, 265, 1]]\n",
      "\n",
      "padded: [[   0    0    0    0    0    0    0    0    0    0 2029  316 2030  151\n",
      "   826 2031    4 2032  265    1]]\n",
      "\n"
     ]
    }
   ],
   "source": [
    "def tokenize_to_index(word_sequences):\n",
    "    \"\"\"\n",
    "    tokenizes tweets that are now word sequences with their index + padding.\n",
    "    \n",
    "    Preprocessing code inspired by: Saitej Dandge Feb 13, 2019. \n",
    "    https://github.com/saitejdandge/Sentimental_Analysis_LSTM_Conv1D/blob/master/main.py\n",
    "    \n",
    "    \n",
    "    \"\"\"\n",
    "    tokenizer = Tokenizer()\n",
    "    tokenizer.fit_on_texts(word_sequences)\n",
    "    word_indices = tokenizer.texts_to_sequences(word_sequences)\n",
    "    word_index = tokenizer.word_index\n",
    "    print(\"Tokenized to Word indices as \")\n",
    "    print(np.array(word_indices).shape)\n",
    "\n",
    "    #padding word_indices\n",
    "\n",
    "    data=pad_sequences(word_indices,maxlen=20) #?? what does this 'maxlen'=20 do ? \n",
    "    print(\"After padding data\")\n",
    "    print(data.shape)\n",
    "    \n",
    "    return word_indices, word_index, data\n",
    "\n",
    "train_w_indices, train_w_index, train_padded = tokenize_to_index(x_train_sequences)\n",
    "test_w_indices, test_w_index, test_padded = tokenize_to_index(x_test_sequences)\n",
    "print()\n",
    "print('word indices:', train_w_indices[:1])\n",
    "print()\n",
    "print('padded:', train_padded[:1])\n",
    "print()\n",
    "#print('word + index:', train_w_index)"
   ]
  },
  {
   "cell_type": "markdown",
   "metadata": {},
   "source": [
    "**6. Implement word embeddings**"
   ]
  },
  {
   "cell_type": "code",
   "execution_count": 11,
   "metadata": {},
   "outputs": [],
   "source": [
    "\n",
    "#Word Embeddings from: https://github.com/coosto/dutch-word-embeddings\n",
    "\n",
    "twitter_embed = gensim.models.KeyedVectors.load_word2vec_format('twitter-dutch-word-embeddings/model.bin', \n",
    "                                                                binary=True)"
   ]
  },
  {
   "cell_type": "code",
   "execution_count": 12,
   "metadata": {},
   "outputs": [
    {
     "name": "stdout",
     "output_type": "stream",
     "text": [
      "Number of dutch twitter embeddings: 250479\n"
     ]
    }
   ],
   "source": [
    "print('Number of dutch twitter embeddings:',len(twitter_embed.vocab))"
   ]
  },
  {
   "cell_type": "code",
   "execution_count": 13,
   "metadata": {},
   "outputs": [
    {
     "name": "stdout",
     "output_type": "stream",
     "text": [
      "Preparing embedding matrix\n",
      "Null word embeddings: 1362\n"
     ]
    }
   ],
   "source": [
    "## loading word embeddings + creating embedding layer inspire from: \n",
    "## https://www.kaggle.com/lystdo/lstm-with-word2vec-embeddings\n",
    "print('Preparing embedding matrix')\n",
    "MAX_NB_WORDS = 250479\n",
    "EMBEDDING_DIM = 300\n",
    "nb_words = min(MAX_NB_WORDS, len(train_w_index))+1\n",
    "embedding_matrix = np.zeros((nb_words, EMBEDDING_DIM))\n",
    "for word, i in train_w_index.items():\n",
    "    if word in twitter_embed.vocab:\n",
    "        embedding_matrix[i] = twitter_embed.word_vec(word)\n",
    "print('Null word embeddings: %d' % np.sum(np.sum(embedding_matrix, axis=1) == 0))\n"
   ]
  },
  {
   "cell_type": "code",
   "execution_count": 14,
   "metadata": {},
   "outputs": [],
   "source": [
    "embedding_layer = Embedding(len(train_w_index) + 1,\n",
    "                            300, weights=[embedding_matrix],\n",
    "                            input_length=20,trainable=False)\n"
   ]
  },
  {
   "cell_type": "markdown",
   "metadata": {},
   "source": [
    "**7. Transform label classes into integers**"
   ]
  },
  {
   "cell_type": "code",
   "execution_count": 15,
   "metadata": {},
   "outputs": [
    {
     "name": "stdout",
     "output_type": "stream",
     "text": [
      "THE MULTICLASS LABELS:\n",
      "{0: 'negative', 1: 'neutral', 2: 'positive'}\n",
      "(899, 3)\n"
     ]
    }
   ],
   "source": [
    "## encoding labels code inspired from: \n",
    "## https://github.com/saitejdandge/Sentimental_Analysis_LSTM_Conv1D/blob/master/main.py\n",
    "\n",
    "label_encoder = LabelEncoder()\n",
    "##MULTICLASS\n",
    "print('THE MULTICLASS LABELS:')\n",
    "integer_encoded = label_encoder.fit_transform(y_train_multi)\n",
    "label_mapping = dict(zip(label_encoder.transform(label_encoder.classes_),label_encoder.classes_))\n",
    "print(label_mapping)\n",
    "y_data_multi=np_utils.to_categorical(integer_encoded)\n",
    "print(y_data_multi.shape)\n"
   ]
  },
  {
   "cell_type": "markdown",
   "metadata": {},
   "source": [
    "**8. Build CNN-BiLSTM MODEL**"
   ]
  },
  {
   "cell_type": "code",
   "execution_count": 16,
   "metadata": {},
   "outputs": [
    {
     "name": "stdout",
     "output_type": "stream",
     "text": [
      "Model: \"sequential_1\"\n",
      "_________________________________________________________________\n",
      "Layer (type)                 Output Shape              Param #   \n",
      "=================================================================\n",
      "embedding_1 (Embedding)      (None, 20, 300)           1703400   \n",
      "_________________________________________________________________\n",
      "dropout_1 (Dropout)          (None, 20, 300)           0         \n",
      "_________________________________________________________________\n",
      "conv1d_1 (Conv1D)            (None, 16, 64)            96064     \n",
      "_________________________________________________________________\n",
      "max_pooling1d_1 (MaxPooling1 (None, 8, 64)             0         \n",
      "_________________________________________________________________\n",
      "dropout_2 (Dropout)          (None, 8, 64)             0         \n",
      "_________________________________________________________________\n",
      "bidirectional_1 (Bidirection (None, 8, 140)            75600     \n",
      "_________________________________________________________________\n",
      "flatten_1 (Flatten)          (None, 1120)              0         \n",
      "_________________________________________________________________\n",
      "dense_1 (Dense)              (None, 300)               336300    \n",
      "_________________________________________________________________\n",
      "dense_2 (Dense)              (None, 3)                 903       \n",
      "=================================================================\n",
      "Total params: 2,212,267\n",
      "Trainable params: 508,867\n",
      "Non-trainable params: 1,703,400\n",
      "_________________________________________________________________\n",
      "None\n",
      "x_data shape :  (899, 20)\n",
      "y_data shape :  (899, 3)\n",
      "\n"
     ]
    }
   ],
   "source": [
    "#Building multiclass model. Code initially inspired from Kaggle's CNN-BiLSTM template: \n",
    "#https://keras.io/examples/imdb_cnn_lstm/\n",
    "\n",
    "multimodel=Sequential() #Keras sequential to define each layer in the neural network architecture\n",
    "multimodel.add(embedding_layer)\n",
    "multimodel.add(Dropout(0.4))\n",
    "multimodel.add(Conv1D(filters=64, \n",
    "                     kernel_size=5, \n",
    "                     padding='valid', \n",
    "                     activation= 'relu', \n",
    "                     strides=1)) \n",
    "multimodel.add(MaxPooling1D(2))\n",
    "multimodel.add(Dropout(0.5))\n",
    "multimodel.add(Bidirectional(LSTM(70, return_sequences=True, kernel_regularizer=l2(0.001), \n",
    "                                  recurrent_regularizer=l2(0.01), \n",
    "                                  bias_regularizer=l2(0.01))))\n",
    "multimodel.add(Flatten()) \n",
    "multimodel.add(Dense(300,activation='relu',  kernel_regularizer=l2(0.01))) \n",
    "multimodel.add(Dense(y_data_multi.shape[1],activation=\"softmax\")) \n",
    "multimodel.compile(loss=\"categorical_crossentropy\",optimizer=\"sgd\",metrics=[\"accuracy\"])\n",
    "\n",
    "print(multimodel.summary())\n",
    "\n",
    "#print(\"Finished Preprocessing data ...\")\n",
    "print(\"x_data shape : \",train_padded.shape) #the padded tweets\n",
    "print(\"y_data shape : \",y_data_multi.shape) #one hot encoded labels\n",
    "print()"
   ]
  },
  {
   "cell_type": "markdown",
   "metadata": {},
   "source": [
    "**9. Train multiclass model**"
   ]
  },
  {
   "cell_type": "code",
   "execution_count": 17,
   "metadata": {},
   "outputs": [
    {
     "name": "stdout",
     "output_type": "stream",
     "text": [
      "Train on 719 samples, validate on 180 samples\n",
      "Epoch 1/38\n",
      "719/719 [==============================] - 2s 3ms/step - loss: 8.7918 - accuracy: 0.3533 - val_loss: 8.7159 - val_accuracy: 0.3944\n",
      "Epoch 2/38\n",
      "719/719 [==============================] - 1s 1ms/step - loss: 8.6682 - accuracy: 0.4075 - val_loss: 8.5936 - val_accuracy: 0.4222\n",
      "Epoch 3/38\n",
      "719/719 [==============================] - 1s 1ms/step - loss: 8.5398 - accuracy: 0.4367 - val_loss: 8.4687 - val_accuracy: 0.4444\n",
      "Epoch 4/38\n",
      "719/719 [==============================] - 1s 1ms/step - loss: 8.4264 - accuracy: 0.4743 - val_loss: 8.3560 - val_accuracy: 0.4722\n",
      "Epoch 5/38\n",
      "719/719 [==============================] - 1s 1ms/step - loss: 8.3026 - accuracy: 0.4882 - val_loss: 8.2374 - val_accuracy: 0.5278\n",
      "Epoch 6/38\n",
      "719/719 [==============================] - 1s 2ms/step - loss: 8.2022 - accuracy: 0.4896 - val_loss: 8.1136 - val_accuracy: 0.5444\n",
      "Epoch 7/38\n",
      "719/719 [==============================] - 1s 1ms/step - loss: 8.0750 - accuracy: 0.5118 - val_loss: 7.9945 - val_accuracy: 0.5500\n",
      "Epoch 8/38\n",
      "719/719 [==============================] - 1s 1ms/step - loss: 7.9638 - accuracy: 0.5299 - val_loss: 7.8759 - val_accuracy: 0.5444\n",
      "Epoch 9/38\n",
      "719/719 [==============================] - 1s 1ms/step - loss: 7.8555 - accuracy: 0.5410 - val_loss: 7.7591 - val_accuracy: 0.5500\n",
      "Epoch 10/38\n",
      "719/719 [==============================] - 1s 1ms/step - loss: 7.7332 - accuracy: 0.5563 - val_loss: 7.6487 - val_accuracy: 0.5667\n",
      "Epoch 11/38\n",
      "719/719 [==============================] - 1s 1ms/step - loss: 7.6131 - accuracy: 0.5786 - val_loss: 7.5400 - val_accuracy: 0.5611\n",
      "Epoch 12/38\n",
      "719/719 [==============================] - 1s 1ms/step - loss: 7.5221 - accuracy: 0.5605 - val_loss: 7.4348 - val_accuracy: 0.5944\n",
      "Epoch 13/38\n",
      "719/719 [==============================] - 1s 1ms/step - loss: 7.4098 - accuracy: 0.5786 - val_loss: 7.3222 - val_accuracy: 0.5778\n",
      "Epoch 14/38\n",
      "719/719 [==============================] - 1s 1ms/step - loss: 7.3066 - accuracy: 0.5939 - val_loss: 7.2355 - val_accuracy: 0.6000\n",
      "Epoch 15/38\n",
      "719/719 [==============================] - 1s 1ms/step - loss: 7.2113 - accuracy: 0.6120 - val_loss: 7.1433 - val_accuracy: 0.6056\n",
      "Epoch 16/38\n",
      "719/719 [==============================] - 1s 1ms/step - loss: 7.0898 - accuracy: 0.6092 - val_loss: 7.0483 - val_accuracy: 0.6111\n",
      "Epoch 17/38\n",
      "719/719 [==============================] - 1s 1ms/step - loss: 7.0118 - accuracy: 0.6203 - val_loss: 6.9508 - val_accuracy: 0.6056\n",
      "Epoch 18/38\n",
      "719/719 [==============================] - 1s 1ms/step - loss: 6.9122 - accuracy: 0.6203 - val_loss: 6.8649 - val_accuracy: 0.6111\n",
      "Epoch 19/38\n",
      "719/719 [==============================] - 1s 1ms/step - loss: 6.8077 - accuracy: 0.6384 - val_loss: 6.7778 - val_accuracy: 0.6056\n",
      "Epoch 20/38\n",
      "719/719 [==============================] - 1s 1ms/step - loss: 6.7065 - accuracy: 0.6467 - val_loss: 6.6864 - val_accuracy: 0.5778\n",
      "Epoch 21/38\n",
      "719/719 [==============================] - 1s 1ms/step - loss: 6.6333 - accuracy: 0.6106 - val_loss: 6.6062 - val_accuracy: 0.5889\n",
      "Epoch 22/38\n",
      "719/719 [==============================] - 1s 1ms/step - loss: 6.5242 - accuracy: 0.6523 - val_loss: 6.5244 - val_accuracy: 0.5889\n",
      "Epoch 23/38\n",
      "719/719 [==============================] - 1s 1ms/step - loss: 6.4289 - accuracy: 0.6801 - val_loss: 6.4462 - val_accuracy: 0.6056\n",
      "Epoch 24/38\n",
      "719/719 [==============================] - 1s 1ms/step - loss: 6.3628 - accuracy: 0.6592 - val_loss: 6.3657 - val_accuracy: 0.5889\n",
      "Epoch 25/38\n",
      "719/719 [==============================] - 1s 1ms/step - loss: 6.2826 - accuracy: 0.6551 - val_loss: 6.2930 - val_accuracy: 0.6000\n",
      "Epoch 26/38\n",
      "719/719 [==============================] - 1s 1ms/step - loss: 6.1889 - accuracy: 0.6453 - val_loss: 6.2551 - val_accuracy: 0.5944\n",
      "Epoch 27/38\n",
      "719/719 [==============================] - 1s 1ms/step - loss: 6.0927 - accuracy: 0.6940 - val_loss: 6.1711 - val_accuracy: 0.6111\n",
      "Epoch 28/38\n",
      "719/719 [==============================] - 1s 1ms/step - loss: 6.0383 - accuracy: 0.6606 - val_loss: 6.0799 - val_accuracy: 0.5944\n",
      "Epoch 29/38\n",
      "719/719 [==============================] - 1s 1ms/step - loss: 5.9210 - accuracy: 0.7038 - val_loss: 6.0392 - val_accuracy: 0.5889\n",
      "Epoch 30/38\n",
      "719/719 [==============================] - 1s 1ms/step - loss: 5.8479 - accuracy: 0.6954 - val_loss: 5.9465 - val_accuracy: 0.5833\n",
      "Epoch 31/38\n",
      "719/719 [==============================] - 1s 1ms/step - loss: 5.7730 - accuracy: 0.6773 - val_loss: 5.8899 - val_accuracy: 0.6056\n",
      "Epoch 32/38\n",
      "719/719 [==============================] - 1s 1ms/step - loss: 5.7181 - accuracy: 0.6926 - val_loss: 5.8165 - val_accuracy: 0.5889\n",
      "Epoch 33/38\n",
      "719/719 [==============================] - 1s 1ms/step - loss: 5.6157 - accuracy: 0.7010 - val_loss: 5.7574 - val_accuracy: 0.5889\n",
      "Epoch 34/38\n",
      "719/719 [==============================] - 1s 1ms/step - loss: 5.5506 - accuracy: 0.6912 - val_loss: 5.7179 - val_accuracy: 0.5778\n",
      "Epoch 35/38\n",
      "719/719 [==============================] - 1s 1ms/step - loss: 5.4691 - accuracy: 0.6982 - val_loss: 5.6376 - val_accuracy: 0.6056\n",
      "Epoch 36/38\n",
      "719/719 [==============================] - 1s 1ms/step - loss: 5.3801 - accuracy: 0.7163 - val_loss: 5.5677 - val_accuracy: 0.6056\n",
      "Epoch 37/38\n",
      "719/719 [==============================] - 1s 1ms/step - loss: 5.3229 - accuracy: 0.7218 - val_loss: 5.5022 - val_accuracy: 0.6000\n",
      "Epoch 38/38\n",
      "719/719 [==============================] - 1s 1ms/step - loss: 5.2110 - accuracy: 0.7316 - val_loss: 5.5197 - val_accuracy: 0.5889\n"
     ]
    }
   ],
   "source": [
    "x_train_multi, y_train_multi= train_padded, y_data_multi\n",
    "history = multimodel.fit(x_train_multi, y_train_multi, epochs=38, batch_size=20, validation_split=0.2)"
   ]
  },
  {
   "cell_type": "markdown",
   "metadata": {},
   "source": [
    "**10. Test Multiclass model & make predictions**"
   ]
  },
  {
   "cell_type": "code",
   "execution_count": 19,
   "metadata": {},
   "outputs": [],
   "source": [
    "test_x = test_padded\n",
    "predictions = multimodel.predict(test_x) # predict\n",
    "classes = multimodel.predict_classes(test_x) # predict classes\n",
    "transformed_classes=label_encoder.inverse_transform(classes) # inverse-transform back to original labels"
   ]
  },
  {
   "cell_type": "markdown",
   "metadata": {},
   "source": [
    "**11. EVALUATION**\n",
    "\n",
    "To compare the test/true labels with the predicted labels \n"
   ]
  },
  {
   "cell_type": "code",
   "execution_count": 20,
   "metadata": {},
   "outputs": [
    {
     "name": "stdout",
     "output_type": "stream",
     "text": [
      "              precision    recall  f1-score   support\n",
      "\n",
      "    negative       0.29      0.19      0.23        67\n",
      "     neutral       0.36      0.43      0.39        69\n",
      "    positive       0.26      0.29      0.27        62\n",
      "\n",
      "    accuracy                           0.31       198\n",
      "   macro avg       0.30      0.31      0.30       198\n",
      "weighted avg       0.30      0.31      0.30       198\n",
      "\n"
     ]
    }
   ],
   "source": [
    "\n",
    "from sklearn.metrics import classification_report\n",
    "y_true = y_test_multi\n",
    "y_pred = transformed_classes\n",
    "print(classification_report(y_true, y_pred))"
   ]
  },
  {
   "cell_type": "code",
   "execution_count": 22,
   "metadata": {},
   "outputs": [],
   "source": [
    "#save output\n",
    "\n",
    "zipped = list(zip(x_test, y_pred, y_true))\n",
    "nested_list = [list(item) for item in zipped]\n",
    "df = pd.DataFrame(nested_list, columns=['tweet','system', 'gold'])\n",
    "#df.to_excel('NN-emotion-output.xlsx', index=False)\n",
    "\n"
   ]
  },
  {
   "cell_type": "code",
   "execution_count": 24,
   "metadata": {},
   "outputs": [],
   "source": [
    "#create confusion matrix. \n",
    "#Confusion matrix creation inspired by student Quincy Liem. \n",
    "\n",
    "entity_types = ['positive','negative', 'neutral']\n",
    "\n",
    "def confusion_matrix(gold, system, entity_types):\n",
    "    confusion_matrix = pd.crosstab(pd.Series(gold),\n",
    "                                   pd.Series(system),\n",
    "                                   rownames=['True'],\n",
    "                                   colnames=['Predicted'],\n",
    "                                   margins=True)\n",
    "\n",
    "    df_cm = pd.DataFrame(confusion_matrix,\n",
    "                         index = entity_types,\n",
    "                         columns = entity_types)\n",
    "\n",
    "    sn.set(font_scale=1.2) #for label size\n",
    "    plt.figure(figsize=(6,4))\n",
    "    cm = sn.heatmap(df_cm, annot=True, annot_kws={\"size\": 12},\n",
    "                    cmap=\"YlGnBu\") #, vmin=0, vmax=1)\n",
    "    # cm.invert_yaxis()\n",
    "    plt.ylabel('True')\n",
    "    plt.xlabel('Predicted')\n",
    "    plt.xticks(rotation=45)\n",
    "    # plt.title(\"Confusion matrix\\n\")\n",
    "    plt.show()\n",
    "    "
   ]
  },
  {
   "cell_type": "code",
   "execution_count": 25,
   "metadata": {},
   "outputs": [
    {
     "data": {
      "image/png": "[encoded data removed]",
      "text/plain": [
       "<Figure size 432x288 with 2 Axes>"
      ]
     },
     "metadata": {},
     "output_type": "display_data"
    }
   ],
   "source": [
    "confusion_matrix(df['gold'], df['system'], entity_types)\n",
    "\n"
   ]
  },
  {
   "cell_type": "code",
   "execution_count": 27,
   "metadata": {},
   "outputs": [
    {
     "data": {
      "image/png": "[encoded data removed]",
      "text/plain": [
       "<Figure size 432x288 with 1 Axes>"
      ]
     },
     "metadata": {},
     "output_type": "display_data"
    }
   ],
   "source": [
    "# Visualize training history\n",
    "plt.plot(history.history['accuracy'])\n",
    "plt.plot(history.history['val_accuracy'])\n",
    "plt.title('model accuracy')\n",
    "plt.ylabel('accuracy')\n",
    "plt.xlabel('epoch')\n",
    "plt.legend(['train', 'test'], loc='upper left')\n",
    "plt.show()"
   ]
  },
  {
   "cell_type": "markdown",
   "metadata": {},
   "source": [
    "**End of Notebook**"
   ]
  }
 ],
 "metadata": {
  "kernelspec": {
   "display_name": "Python 3",
   "language": "python",
   "name": "python3"
  },
  "language_info": {
   "codemirror_mode": {
    "name": "ipython",
    "version": 3
   },
   "file_extension": ".py",
   "mimetype": "text/x-python",
   "name": "python",
   "nbconvert_exporter": "python",
   "pygments_lexer": "ipython3",
   "version": "3.7.1"
  }
 },
 "nbformat": 4,
 "nbformat_minor": 2
}
