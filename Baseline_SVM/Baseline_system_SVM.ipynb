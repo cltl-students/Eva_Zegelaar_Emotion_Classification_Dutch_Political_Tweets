{
 "cells": [
  {
   "cell_type": "markdown",
   "metadata": {},
   "source": [
    "# Baseline SVM for Dutch tweets"
   ]
  },
  {
   "cell_type": "markdown",
   "metadata": {},
   "source": [
    "Tutorial code support: https://www.youtube.com/watch?v=M9Itm95JzL0&t=2704s\n"
   ]
  },
  {
   "cell_type": "code",
   "execution_count": 16,
   "metadata": {},
   "outputs": [],
   "source": [
    "import pandas as pd\n",
    "import numpy as np \n",
    "from sklearn import svm #model\n",
    "from sklearn.feature_extraction.text import CountVectorizer, TfidfVectorizer #bag of words vectorization\n",
    "import gensim\n",
    "from nltk.corpus import stopwords \n",
    "from nltk.tokenize import word_tokenize\n",
    "from sklearn.model_selection import cross_val_score\n",
    "from sklearn import metrics\n",
    "import pickle\n",
    "from sklearn.metrics import plot_confusion_matrix\n",
    "import matplotlib.pyplot as plt\n",
    "from keras.preprocessing.text import text_to_word_sequence\n",
    "from nltk.corpus import stopwords \n",
    "from nltk.tokenize import word_tokenize\n",
    "from keras.preprocessing.text import Tokenizer\n",
    "from keras.preprocessing.sequence import pad_sequences\n",
    "import seaborn as sn"
   ]
  },
  {
   "cell_type": "markdown",
   "metadata": {},
   "source": [
    "**1. Get training & test data**"
   ]
  },
  {
   "cell_type": "code",
   "execution_count": 2,
   "metadata": {},
   "outputs": [
    {
     "data": {
      "text/plain": [
       "899"
      ]
     },
     "execution_count": 2,
     "metadata": {},
     "output_type": "execute_result"
    }
   ],
   "source": [
    "def read_csv(filename, sheetname='sheet'): \n",
    "    \"\"\"\n",
    "    Reads excel file containing training data and \n",
    "    assigns tweets and labels as x or y variable values.\n",
    "    \"\"\"\n",
    "    df = pd.read_excel(open(filename, 'rb'),\n",
    "               sheet_name=sheetname) \n",
    "    x = df.values[:,0]\n",
    "    y = df.values[:,1]\n",
    "    \n",
    "    \n",
    "    return x, y\n",
    "\n",
    "#change sheetname to 'gold-emotion' for emotion training labels\n",
    "#change sheetname to 'gold-proactivity' for binary proactivity training labels \n",
    "x_train, y_train = read_csv('gold.xlsx', 'gold-polarity') \n",
    "\n",
    "#change sheetname to 'test-data-emotion' for emotion test labels\n",
    "#change sheetname to 'test-data-proactivity' for binary proactivity test labels\n",
    "x_test, y_test = read_csv('gold.xlsx', 'test-data-polarity') \n",
    "\n",
    "len(x_test)\n",
    "len(x_train)\n"
   ]
  },
  {
   "cell_type": "markdown",
   "metadata": {},
   "source": [
    "**2. Count distribution of labels for training**"
   ]
  },
  {
   "cell_type": "code",
   "execution_count": 3,
   "metadata": {},
   "outputs": [
    {
     "data": {
      "text/plain": [
       "neutral     362\n",
       "positive    269\n",
       "negative    268\n",
       "Name: polarity, dtype: int64"
      ]
     },
     "execution_count": 3,
     "metadata": {},
     "output_type": "execute_result"
    }
   ],
   "source": [
    "df = pd.read_excel(open('gold.xlsx', 'rb'),\n",
    "               sheet_name='gold-polarity')\n",
    "df['polarity'].value_counts()"
   ]
  },
  {
   "cell_type": "markdown",
   "metadata": {},
   "source": [
    "**3. Preprocessing**"
   ]
  },
  {
   "cell_type": "code",
   "execution_count": 4,
   "metadata": {},
   "outputs": [],
   "source": [
    "def preprocessing2(tweets):\n",
    "    \"\"\"\n",
    "    Program to preprocess data ready for system input. \n",
    "    Removes stopwords.\n",
    "    Returns each tweet as a list of word sequences using the keras \n",
    "    preprocessing module 'text_to_word_sequence'\n",
    "    \n",
    "    Preprocessing code inspired by: Saitej Dandge Feb 13, 2019. \n",
    "    https://github.com/saitejdandge/Sentimental_Analysis_LSTM_Conv1D/blob/master/main.py\n",
    "    \"\"\"\n",
    "    dutch_stop_words = set(stopwords.words('dutch')) #from dutch nltk \n",
    "    added_stop_words = set(dutch_stop_words)\n",
    "    \n",
    "    for stopword in dutch_stop_words: \n",
    "        added_stop_words.add(stopword.replace('\\'',''))\n",
    "        pass\n",
    "    stopWords=added_stop_words\n",
    "    punct='\\n\\t!\"#$%&()*+,-./:;<=>?[\\]^_`{|}~'\n",
    "    word_seq=[]\n",
    "    \n",
    "    for item in tweets:\n",
    "        item=str(item)\n",
    "        item=item.replace('\\'', '')\n",
    "        newl = [x for x in text_to_word_sequence(item,filters=punct, lower=True)] #if not x.startswith(\"@\")]\n",
    "        filtered_sent = [w for w in newl if not w in stopWords] \n",
    "        word_seq.append(filtered_sent)\n",
    "        pass\n",
    "    return word_seq\n",
    "x_train_sequences = preprocessing2(x_train)\n",
    "x_test_sequences = preprocessing2(x_test)"
   ]
  },
  {
   "cell_type": "code",
   "execution_count": 7,
   "metadata": {},
   "outputs": [],
   "source": [
    "def after_preprocessing(preprocessed_tweets):\n",
    "    \"\"\"\n",
    "    Joins the preprocessed sequences into suitable format for tdf-vectorizer later\n",
    "    \"\"\"\n",
    "    cleaned = []\n",
    "    for item in preprocessed_tweets:\n",
    "        joined = [' '.join(item)]\n",
    "        cleaned.append(joined)\n",
    "    \n",
    "    df = pd.DataFrame(cleaned)\n",
    "    return df\n",
    "x_train_cleaned = after_preprocessing(x_train_sequences)\n",
    "x_test_cleaned = after_preprocessing(x_test_sequences)\n",
    "x_train_real = x_train_cleaned.values[:,0]\n",
    "x_test_real = x_test_cleaned.values[:,0]\n"
   ]
  },
  {
   "cell_type": "markdown",
   "metadata": {},
   "source": [
    "**4. Tf-idf vectorizer**\n"
   ]
  },
  {
   "cell_type": "code",
   "execution_count": 9,
   "metadata": {},
   "outputs": [
    {
     "name": "stdout",
     "output_type": "stream",
     "text": [
      "[[0. 0. 0. ... 0. 0. 0.]\n",
      " [0. 0. 0. ... 0. 0. 0.]\n",
      " [0. 0. 0. ... 0. 0. 0.]\n",
      " ...\n",
      " [0. 0. 0. ... 0. 0. 0.]\n",
      " [0. 0. 0. ... 0. 0. 0.]\n",
      " [0. 0. 0. ... 0. 0. 0.]]\n"
     ]
    }
   ],
   "source": [
    "#https://scikit-learn.org/stable/modules/generated/sklearn.feature_extraction.text.TfidfVectorizer.html?highlight=tfidfvectorizer#sklearn.feature_extraction.text.TfidfVectorizer\n",
    "vectorizer = TfidfVectorizer()\n",
    "xtrain_vectors = vectorizer.fit_transform(x_train_real)  # returns a matrix \n",
    "xtest_vectors = vectorizer.transform(x_test_real)\n",
    "print(xtrain_vectors.toarray()) #check "
   ]
  },
  {
   "cell_type": "code",
   "execution_count": 10,
   "metadata": {},
   "outputs": [
    {
     "name": "stdout",
     "output_type": "stream",
     "text": [
      "(899, 5237)\n"
     ]
    }
   ],
   "source": [
    "#print(vectorizer.get_feature_names())\n",
    "print(xtrain_vectors.shape)"
   ]
  },
  {
   "cell_type": "markdown",
   "metadata": {},
   "source": [
    "**5. Train Linear SVM Model** "
   ]
  },
  {
   "cell_type": "code",
   "execution_count": 12,
   "metadata": {},
   "outputs": [
    {
     "name": "stdout",
     "output_type": "stream",
     "text": [
      "['neutral' 'neutral' 'neutral' 'neutral' 'neutral' 'positive' 'neutral'\n",
      " 'positive' 'neutral' 'neutral']\n"
     ]
    }
   ],
   "source": [
    "clf_svm = svm.SVC(kernel='linear')\n",
    "clf_svm.fit(xtrain_vectors, y_train)\n",
    "\n",
    "predicted = clf_svm.predict(xtest_vectors)\n",
    "print(predicted[:10])"
   ]
  },
  {
   "cell_type": "markdown",
   "metadata": {},
   "source": [
    "**6. EVALUATION**"
   ]
  },
  {
   "cell_type": "code",
   "execution_count": 14,
   "metadata": {},
   "outputs": [
    {
     "name": "stdout",
     "output_type": "stream",
     "text": [
      "              precision    recall  f1-score   support\n",
      "\n",
      "    negative       0.61      0.49      0.55        67\n",
      "     neutral       0.52      0.78      0.63        69\n",
      "    positive       0.76      0.50      0.60        62\n",
      "\n",
      "    accuracy                           0.60       198\n",
      "   macro avg       0.63      0.59      0.59       198\n",
      "weighted avg       0.63      0.60      0.59       198\n",
      "\n"
     ]
    }
   ],
   "source": [
    "from sklearn.metrics import classification_report\n",
    "y_pred = predicted\n",
    "y_true = y_test\n",
    "print(classification_report(y_true, y_pred, digits=2))"
   ]
  },
  {
   "cell_type": "code",
   "execution_count": 18,
   "metadata": {},
   "outputs": [],
   "source": [
    "#SAVE OUTPUT TO EXCEL FILE \n",
    "\n",
    "zipped = list(zip(x_test, predicted, y_true))\n",
    "nested_list = [list(item) for item in zipped]\n",
    "df = pd.DataFrame(nested_list, columns=['tweet','system', 'gold'])\n",
    "#df.to_excel('SVM-EMOTION-output.xlsx', index=False)\n"
   ]
  },
  {
   "cell_type": "code",
   "execution_count": 20,
   "metadata": {},
   "outputs": [],
   "source": [
    "## CONFUSION MATRIX \n",
    "## Confusion matrix creation inspired by student Quincy Liem. \n",
    "\n",
    "entity_types = ['positive','negative', 'neutral']\n",
    "\n",
    "def confusion_matrix(gold, system, entity_types):\n",
    "                \n",
    "    confusion_matrix = pd.crosstab(pd.Series(gold),\n",
    "                                   pd.Series(system),\n",
    "                                   rownames=['True'],\n",
    "                                   colnames=['Predicted'],\n",
    "                                   margins=True)\n",
    "                                   \n",
    "                                   \n",
    "\n",
    "    df_cm = pd.DataFrame(confusion_matrix,\n",
    "                         index = entity_types,\n",
    "                         columns = entity_types)\n",
    "\n",
    "    sn.set(font_scale=1.2) #for label size\n",
    "    plt.figure(figsize=(6,4))\n",
    "    cm = sn.heatmap(df_cm, annot=True, annot_kws={\"size\": 12},\n",
    "                    cmap=\"YlGnBu\")\n",
    "    # cm.invert_yaxis()\n",
    "    plt.ylabel('True')\n",
    "    plt.xlabel('Predicted')\n",
    "    plt.xticks(rotation=45)\n",
    "    # plt.title(\"Confusion matrix\\n\")\n",
    "    plt.show()\n",
    "    "
   ]
  },
  {
   "cell_type": "code",
   "execution_count": 22,
   "metadata": {},
   "outputs": [
    {
     "data": {
      "image/png": "[encoded data removed]",
      "text/plain": [
       "<Figure size 432x288 with 2 Axes>"
      ]
     },
     "metadata": {},
     "output_type": "display_data"
    }
   ],
   "source": [
    "confusion_matrix(df['gold'], df['system'], entity_types)\n"
   ]
  },
  {
   "cell_type": "markdown",
   "metadata": {},
   "source": [
    "**End of Notebook**"
   ]
  }
 ],
 "metadata": {
  "kernelspec": {
   "display_name": "Python 3",
   "language": "python",
   "name": "python3"
  },
  "language_info": {
   "codemirror_mode": {
    "name": "ipython",
    "version": 3
   },
   "file_extension": ".py",
   "mimetype": "text/x-python",
   "name": "python",
   "nbconvert_exporter": "python",
   "pygments_lexer": "ipython3",
   "version": "3.7.1"
  }
 },
 "nbformat": 4,
 "nbformat_minor": 2
}
